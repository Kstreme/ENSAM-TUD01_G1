{
 "cells": [
  {
   "cell_type": "code",
   "execution_count": 19,
   "metadata": {},
   "outputs": [
    {
     "ename": "UndefVarError",
     "evalue": "UndefVarError: `full_integral` not defined",
     "output_type": "error",
     "traceback": [
      "UndefVarError: `full_integral` not defined\n",
      "\n",
      "Stacktrace:\n",
      " [1] top-level scope\n",
      "   @ c:\\Users\\lucas\\Documents\\GitHub\\ENSAM-TUD01_G1\\integration_test.ipynb:33"
     ]
    }
   ],
   "source": [
    "using QuadGK\n",
    "using Plots\n",
    "\n",
    "x_values = range(0,1, 100)\n",
    "x = 0\n",
    "fun = (x+1)\n",
    "\n",
    "function original_function(x)\n",
    "\n",
    "    y_values = []\n",
    "    for i in x\n",
    "\n",
    "        y = i+1\n",
    "        append!(y_values, y)\n",
    "    end\n",
    "\n",
    "    return y_values\n",
    "end\n",
    "\n",
    "\n",
    "function fourthderivative(x_values, fun)\n",
    "    \n",
    "    full_integral = Float64[]\n",
    "\n",
    "    for i in x_values\n",
    "        integral_value = quadgk(fun, i-1, i, order = 4)\n",
    "        append!(full_integral,integral_value)\n",
    "    \n",
    "    end\n",
    "end\n",
    "\n",
    "plot(x_values, original_function(x_values), label=\"Original Function (x^2)\", xlabel=\"x\", ylabel=\"Function Value\", legend=:topleft)\n",
    "plot!(x_values, full_integral, label=\"Fourth Primitive\", linestyle=:dash)\n",
    "\n"
   ]
  }
 ],
 "metadata": {
  "kernelspec": {
   "display_name": "Julia 1.9.4",
   "language": "julia",
   "name": "julia-1.9"
  },
  "language_info": {
   "file_extension": ".jl",
   "mimetype": "application/julia",
   "name": "julia",
   "version": "1.9.4"
  }
 },
 "nbformat": 4,
 "nbformat_minor": 2
}
