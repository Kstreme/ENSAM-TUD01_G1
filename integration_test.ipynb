{
 "cells": [
  {
   "cell_type": "code",
   "execution_count": 24,
   "metadata": {},
   "outputs": [
    {
     "ename": "MethodError",
     "evalue": "MethodError: no method matching +(::Type{Float64}, ::Int64)\n\nClosest candidates are:\n  +(::Any, ::Any, !Matched::Any, !Matched::Any...)\n   @ Base operators.jl:578\n  +(!Matched::T, ::T) where T<:Union{Int128, Int16, Int32, Int64, Int8, UInt128, UInt16, UInt32, UInt64, UInt8}\n   @ Base int.jl:87\n  +(!Matched::AbstractGray{Bool}, ::Number)\n   @ ColorVectorSpace C:\\Users\\lucas\\.julia\\packages\\ColorVectorSpace\\tLy1N\\src\\ColorVectorSpace.jl:321\n  ...\n",
     "output_type": "error",
     "traceback": [
      "MethodError: no method matching +(::Type{Float64}, ::Int64)\n",
      "\n",
      "Closest candidates are:\n",
      "  +(::Any, ::Any, !Matched::Any, !Matched::Any...)\n",
      "   @ Base operators.jl:578\n",
      "  +(!Matched::T, ::T) where T<:Union{Int128, Int16, Int32, Int64, Int8, UInt128, UInt16, UInt32, UInt64, UInt8}\n",
      "   @ Base int.jl:87\n",
      "  +(!Matched::AbstractGray{Bool}, ::Number)\n",
      "   @ ColorVectorSpace C:\\Users\\lucas\\.julia\\packages\\ColorVectorSpace\\tLy1N\\src\\ColorVectorSpace.jl:321\n",
      "  ...\n",
      "\n",
      "\n",
      "Stacktrace:\n",
      " [1] top-level scope\n",
      "   @ c:\\Users\\lucas\\Documents\\GitHub\\ENSAM-TUD01_G1\\integration_test.ipynb:6"
     ]
    }
   ],
   "source": [
    "using QuadGK\n",
    "using Plots\n",
    "\n",
    "x_values = range(0,1, 100)\n",
    "\n",
    "fun = (x+1)\n",
    "\n",
    "function original_function(x)\n",
    "\n",
    "    y_values = []\n",
    "    for i in x\n",
    "\n",
    "        y = i+1\n",
    "        append!(y_values, y)\n",
    "    end\n",
    "\n",
    "    return y_values\n",
    "end\n",
    "\n",
    "\n",
    "function fourthderivative(x_values, fun)\n",
    "    \n",
    "    full_integral = []\n",
    "\n",
    "    for i in x_values\n",
    "        integral_value = quadgk(fun, i-1, i, order = 4)\n",
    "        append!(full_integral,integral_value)\n",
    "    \n",
    "    end\n",
    "end\n",
    "\n",
    "plot(x_values, original_function(x_values), label=\"Original Function (x^2)\", xlabel=\"x\", ylabel=\"Function Value\", legend=:topleft)\n",
    "plot!(x_values, full_integral, label=\"Fourth Primitive\", linestyle=:dash)\n",
    "\n"
   ]
  },
  {
   "cell_type": "code",
   "execution_count": 6,
   "metadata": {},
   "outputs": [
    {
     "ename": "UndefVarError",
     "evalue": "UndefVarError: `y` not defined",
     "output_type": "error",
     "traceback": [
      "UndefVarError: `y` not defined\n",
      "\n",
      "Stacktrace:\n",
      " [1] top-level scope\n",
      "   @ c:\\Users\\lucas\\Documents\\GitHub\\ENSAM-TUD01_G1\\integration_test.ipynb:11"
     ]
    }
   ],
   "source": [
    "using DifferentialEquations\n",
    "using Plots\n",
    "\n",
    "# Define the ODE function\n",
    "function f(y, t, params)\n",
    "    p1, p2, p3, p4 = params\n",
    "    y'''' + p1*y'' + p2*y' + p3*y + p4\n",
    "end\n",
    "\n",
    "# Set boundary conditions\n",
    "bc = [y[1]==1, y[4]==0]\n",
    "\n",
    "# Create the BVP problem\n",
    "prob = BVPProblem(f, bc, [0.0, 1.0], params=[2, 3, 4, 0])\n",
    "\n",
    "# Choose a solver\n",
    "solver = ShootingMethod()\n",
    "\n",
    "# Solve the BVP\n",
    "sol = solve(prob, solver)\n",
    "\n",
    "# Plot the solution\n",
    "plot(sol.ts, sol.y[1])\n"
   ]
  }
 ],
 "metadata": {
  "kernelspec": {
   "display_name": "Julia 1.9.4",
   "language": "julia",
   "name": "julia-1.9"
  },
  "language_info": {
   "file_extension": ".jl",
   "mimetype": "application/julia",
   "name": "julia",
   "version": "1.9.4"
  }
 },
 "nbformat": 4,
 "nbformat_minor": 2
}
