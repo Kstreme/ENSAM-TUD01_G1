{
 "cells": [
  {
   "cell_type": "code",
   "execution_count": 8,
   "metadata": {},
   "outputs": [
    {
     "ename": "UndefVarError",
     "evalue": "UndefVarError: `x` not defined",
     "output_type": "error",
     "traceback": [
      "UndefVarError: `x` not defined\n",
      "\n",
      "Stacktrace:\n",
      " [1] (::var\"#23#24\")(x_values::Float64)\n",
      "   @ Main c:\\Users\\lucas\\Documents\\GitHub\\ENSAM-TUD01_G1\\integration_test.ipynb:6\n",
      " [2] evalrule(f::var\"#23#24\", a::Int64, b::Int64, x::Vector{Float64}, w::Vector{Float64}, gw::Vector{Float64}, nrm::typeof(LinearAlgebra.norm))\n",
      "   @ QuadGK C:\\Users\\lucas\\.julia\\packages\\QuadGK\\ZWSGN\\src\\evalrule.jl:0\n",
      " [3] #6\n",
      "   @ C:\\Users\\lucas\\.julia\\packages\\QuadGK\\ZWSGN\\src\\adapt.jl:13 [inlined]\n",
      " [4] ntuple\n",
      "   @ .\\ntuple.jl:48 [inlined]\n",
      " [5] do_quadgk(f::var\"#23#24\", s::Tuple{Int64, Int64}, n::Int64, atol::Nothing, rtol::Nothing, maxevals::Int64, nrm::typeof(LinearAlgebra.norm), segbuf::Nothing)\n",
      "   @ QuadGK C:\\Users\\lucas\\.julia\\packages\\QuadGK\\ZWSGN\\src\\adapt.jl:13\n",
      " [6] #50\n",
      "   @ C:\\Users\\lucas\\.julia\\packages\\QuadGK\\ZWSGN\\src\\adapt.jl:235 [inlined]\n",
      " [7] handle_infinities(workfunc::QuadGK.var\"#50#51\"{Nothing, Nothing, Int64, Int64, typeof(LinearAlgebra.norm), Nothing}, f::var\"#23#24\", s::Tuple{Int64, Int64})\n",
      "   @ QuadGK C:\\Users\\lucas\\.julia\\packages\\QuadGK\\ZWSGN\\src\\adapt.jl:134\n",
      " [8] quadgk(::Function, ::Int64, ::Vararg{Int64}; atol::Nothing, rtol::Nothing, maxevals::Int64, order::Int64, norm::Function, segbuf::Nothing)\n",
      "   @ QuadGK C:\\Users\\lucas\\.julia\\packages\\QuadGK\\ZWSGN\\src\\adapt.jl:234\n",
      " [9] top-level scope\n",
      "   @ c:\\Users\\lucas\\Documents\\GitHub\\ENSAM-TUD01_G1\\integration_test.ipynb:6"
     ]
    }
   ],
   "source": [
    "using QuadGK\n",
    "using Plots\n",
    "\n",
    "x_values = range(0,1, 100)\n",
    "\n",
    "integral = quadgk(x_values -> (x+1), x_values, order = 4)\n",
    "\n",
    "plot(x_values, integral)"
   ]
  }
 ],
 "metadata": {
  "kernelspec": {
   "display_name": "Julia 1.9.4",
   "language": "julia",
   "name": "julia-1.9"
  },
  "language_info": {
   "file_extension": ".jl",
   "mimetype": "application/julia",
   "name": "julia",
   "version": "1.9.4"
  }
 },
 "nbformat": 4,
 "nbformat_minor": 2
}
