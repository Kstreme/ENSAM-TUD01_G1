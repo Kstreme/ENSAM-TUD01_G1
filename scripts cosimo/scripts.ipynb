{
 "cells": [
  {
   "cell_type": "markdown",
   "metadata": {},
   "source": [
    "Poisson with M, E and J as functions of x"
   ]
  },
  {
   "cell_type": "code",
   "execution_count": 1,
   "metadata": {},
   "outputs": [],
   "source": [
    "using Plots\n",
    "using DifferentialEquations\n",
    "\n",
    "E(x)=1                 #young module equation\n",
    "J(x)= 1.1-x                      #inertia equation\n",
    "M(x)=-(1-x);                  #momentum equation\n",
    "\n",
    "\n",
    "f(x)=-M(x)/(E(x)*J(x))\n",
    "\n",
    "function poisson!(du,u,p,x)\n",
    "    du[1]=u[2]\n",
    "    du[2]=f(x)\n",
    "end\n",
    "\n",
    "function bc!(r,u,p,t)\n",
    "    r[1] = u[1][1]\n",
    "    r[2] = u[1][2]\n",
    "end\n",
    "\n",
    "xspan=(0.0 , 1.0)\n",
    "\n",
    "\n",
    "bvp= BVProblem(poisson!,bc!,[0,0],xspan)\n",
    "u_sol= solve(bvp,BS3(),saveat = 0.01)\n",
    "\n",
    "plot(u_sol.t,-u_sol[1,:],label=\"displacement\")\n",
    "plot!(u_sol.t,0*u_sol.t,label=\"beam\")\n",
    "plot!(u_sol.t,-0.05*M.(u_sol.t),label=\"momentum\")"
   ]
  },
  {
   "cell_type": "markdown",
   "metadata": {},
   "source": [
    "beam eqaution with E and J constant and q as a function of x"
   ]
  },
  {
   "cell_type": "code",
   "execution_count": 1,
   "metadata": {},
   "outputs": [],
   "source": [
    "using Plots\n",
    "using DifferentialEquations\n",
    "\n",
    "q(x)=1\n",
    "EJ=1\n",
    "\n",
    "xspan=(0.0 , 1.0)\n",
    "\n",
    "f(x)=q(x)/EJ\n",
    "\n",
    "\n",
    "\n",
    "function beam!(du,u,p,x)\n",
    "    du[1]=u[2]\n",
    "    du[2]=u[3]\n",
    "    du[3]=u[4]\n",
    "    du[4]=f(x)\n",
    "end\n",
    "\n",
    "\n",
    "\n",
    "function bc!(r,u,p,x)\n",
    "    r[1]= u[1][1]\n",
    "    r[2]= u[3][1]\n",
    "    r[3]= u[1][end]\n",
    "    r[4]= u[3][end]\n",
    "end\n",
    "\n",
    "\n",
    "\n",
    "bvp= BVProblem(beam!,bc!,[0,0,0,0],xspan)\n",
    "u_sol= solve(bvp,BS3(),saveat = 0.01)\n",
    "\n"
   ]
  }
 ],
 "metadata": {
  "kernelspec": {
   "display_name": "Julia 1.9.4",
   "language": "julia",
   "name": "julia-1.9"
  },
  "language_info": {
   "file_extension": ".jl",
   "mimetype": "application/julia",
   "name": "julia",
   "version": "1.9.4"
  }
 },
 "nbformat": 4,
 "nbformat_minor": 2
}
